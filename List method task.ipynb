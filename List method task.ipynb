{
 "cells": [
  {
   "cell_type": "markdown",
   "id": "38beda85-aca9-4f3b-8341-a28b4c982a13",
   "metadata": {},
   "source": [
    "# Python Array Append Method, add new parameter in array list"
   ]
  },
  {
   "cell_type": "code",
   "execution_count": 4,
   "id": "b13701f9-0aa2-484f-bba7-54f9d7c4e4b7",
   "metadata": {},
   "outputs": [
    {
     "name": "stdout",
     "output_type": "stream",
     "text": [
      "['akash', 'sumit', 'abhineel', 'rohit', 'vivek']\n"
     ]
    }
   ],
   "source": [
    "name=[\"akash\", \"sumit\", \"abhineel\", \"rohit\"]\n",
    "name.append(\"vivek\")\n",
    "print(name)"
   ]
  },
  {
   "cell_type": "markdown",
   "id": "7e7dffce-1033-4dec-a24d-a20eac6bc06a",
   "metadata": {},
   "source": [
    "# Python List Clear Method, to remove the parameter of array list"
   ]
  },
  {
   "cell_type": "code",
   "execution_count": 7,
   "id": "b54e2c88-1a87-4f4b-a4c2-bb2379410cd1",
   "metadata": {},
   "outputs": [
    {
     "name": "stdout",
     "output_type": "stream",
     "text": [
      "[]\n"
     ]
    }
   ],
   "source": [
    "l1 = [1,2,3,4,5,6,7]\n",
    "l1.clear()\n",
    "print(l1)"
   ]
  },
  {
   "cell_type": "markdown",
   "id": "eb5f5d81-dcec-41fb-aa78-7b0b6e71685f",
   "metadata": {},
   "source": [
    "# Python List Count Method, it will show how many times similiar value or parameter is their"
   ]
  },
  {
   "cell_type": "code",
   "execution_count": 10,
   "id": "4c9d7cd8-2f2f-4179-9f6d-dd67b422ea57",
   "metadata": {},
   "outputs": [
    {
     "name": "stdout",
     "output_type": "stream",
     "text": [
      "z=3\n"
     ]
    }
   ],
   "source": [
    "alpha = [\"z\", \"v\", \"v\", \"z\",\"d\",\"z\",]\n",
    "value=alpha.count(\"z\")\n",
    "print(f'z={value}')"
   ]
  },
  {
   "cell_type": "markdown",
   "id": "355a6310-2055-4f79-94a6-626155ff5370",
   "metadata": {},
   "source": [
    "# Python List Extend Method, it will add the 2nd array list value at the end of 1st array list value\n"
   ]
  },
  {
   "cell_type": "code",
   "execution_count": 13,
   "id": "b54a73a2-8339-4b9e-b713-e3158c558601",
   "metadata": {},
   "outputs": [
    {
     "name": "stdout",
     "output_type": "stream",
     "text": [
      "['Yamaha', 'shine', 'Honda', 'Activa', '320d', 'R5']\n"
     ]
    }
   ],
   "source": [
    "automobile = [\"Yamaha\", \"shine\", \"Honda\"]\n",
    "bike=[\"Activa\",\"320d\", \"R5\"]\n",
    "automobile.extend(bike)\n",
    "print(automobile)"
   ]
  },
  {
   "cell_type": "markdown",
   "id": "859f407e-f801-49e2-903b-86f5d59f1a09",
   "metadata": {},
   "source": [
    "# Python List Index Method, it will return the index value of parameter"
   ]
  },
  {
   "cell_type": "code",
   "execution_count": 18,
   "id": "0e83e502-62c2-46f1-bbda-4f6d3000a4b2",
   "metadata": {},
   "outputs": [
    {
     "name": "stdout",
     "output_type": "stream",
     "text": [
      "akash=0\n"
     ]
    }
   ],
   "source": [
    "student=[\"akash\",\"sumit\",\"yogesh\"]\n",
    "name=student.index(\"akash\")\n",
    "print(f'akash={name}')"
   ]
  },
  {
   "cell_type": "code",
   "execution_count": 22,
   "id": "f238a805-f531-408b-b64e-1c6baaeed819",
   "metadata": {},
   "outputs": [
    {
     "name": "stdout",
     "output_type": "stream",
     "text": [
      "6=5\n"
     ]
    }
   ],
   "source": [
    "list = [1,2,3,4,5,6,7]\n",
    "num = list.index(6)\n",
    "print(f'6={num}')"
   ]
  },
  {
   "cell_type": "markdown",
   "id": "338e79a9-9c58-4ebc-b328-04c1121dd0d0",
   "metadata": {},
   "source": [
    "# Python List Insert Method, to add new parameter at specific position by using index value"
   ]
  },
  {
   "cell_type": "code",
   "execution_count": 25,
   "id": "7a9f1e0e-c470-42e5-b148-9857e953ba51",
   "metadata": {},
   "outputs": [
    {
     "name": "stdout",
     "output_type": "stream",
     "text": [
      "car=['swift', 'creta', 'duster', 'mercedes', 'bmw', 'audi']\n"
     ]
    }
   ],
   "source": [
    "car = [\"swift\",\"creta\",\"duster\",\"bmw\",\"audi\"]\n",
    "car.insert(3,\"mercedes\")\n",
    "print(f'car={car}')"
   ]
  },
  {
   "cell_type": "code",
   "execution_count": 27,
   "id": "a37f225f-34a8-490f-8fb8-e3267544d78f",
   "metadata": {},
   "outputs": [
    {
     "name": "stdout",
     "output_type": "stream",
     "text": [
      "list=[8, 1, 2, 3, 4, 5, 6, 7]\n"
     ]
    }
   ],
   "source": [
    "list = [1,2,3,4,5,6,7]\n",
    "list.insert(0,8)\n",
    "print(f'list={list}')"
   ]
  },
  {
   "cell_type": "markdown",
   "id": "ee022565-4a10-400c-aef9-69e5d0833431",
   "metadata": {},
   "source": [
    "# Python List Pop Method, it will remove the parameter from index value refrence"
   ]
  },
  {
   "cell_type": "code",
   "execution_count": 32,
   "id": "6a42991d-819e-49e1-9223-2ac1c9a905bc",
   "metadata": {},
   "outputs": [
    {
     "name": "stdout",
     "output_type": "stream",
     "text": [
      "company=['Hyundai', 'BMW', 'Suzuki', 'Nissan']\n"
     ]
    }
   ],
   "source": [
    "car = [\"Hyundai\", \"BMW\", \"Audi\",\"Suzuki\",\"Nissan\"]\n",
    "car.pop(2)\n",
    "print(f'company={car}')"
   ]
  },
  {
   "cell_type": "code",
   "execution_count": 34,
   "id": "66e55d58-857d-46ef-b535-c0887fc6a04c",
   "metadata": {},
   "outputs": [
    {
     "name": "stdout",
     "output_type": "stream",
     "text": [
      "ans=[1, 2, 3, 4, 6, 7]\n"
     ]
    }
   ],
   "source": [
    "list = [1,2,3,4,5,6,7]\n",
    "list.pop(4)\n",
    "print(f'ans={list}')"
   ]
  },
  {
   "cell_type": "markdown",
   "id": "d71dbcba-4b28-481f-99ab-02ea3a28db44",
   "metadata": {},
   "source": [
    "# Python Remove Method, it will remove the parameter directly"
   ]
  },
  {
   "cell_type": "code",
   "execution_count": 39,
   "id": "e746e94a-cf33-4338-87d2-2cb61c179986",
   "metadata": {},
   "outputs": [
    {
     "name": "stdout",
     "output_type": "stream",
     "text": [
      "name=['DA5', 'DA5', 'DA8']\n"
     ]
    }
   ],
   "source": [
    "batch= [\"DA5\",\"DA5\",\"DA7\",\"DA8\"]\n",
    "batch.remove(\"DA7\")\n",
    "print(f'name={batch}')\n"
   ]
  },
  {
   "cell_type": "markdown",
   "id": "952fc491-2a1f-4664-ad9b-9d2674c80979",
   "metadata": {},
   "source": [
    "# Python List Reverse Method, the list will show in reverse sort"
   ]
  },
  {
   "cell_type": "code",
   "execution_count": 42,
   "id": "9fb4b1c5-f295-431a-839a-12be0ef18211",
   "metadata": {},
   "outputs": [
    {
     "name": "stdout",
     "output_type": "stream",
     "text": [
      "list=[1, 2, 3, 4, 5, 6, 7, 8, 9]\n"
     ]
    }
   ],
   "source": [
    "list = [9,8,7,6,5,4,3,2,1]\n",
    "list.reverse()\n",
    "print(f'list={list}')"
   ]
  },
  {
   "cell_type": "code",
   "execution_count": 44,
   "id": "2e639ac6-ca36-4dc2-b094-b44a86950016",
   "metadata": {},
   "outputs": [
    {
     "name": "stdout",
     "output_type": "stream",
     "text": [
      "value=['name5', 'name4', 'name3', 'name2', 'name1']\n"
     ]
    }
   ],
   "source": [
    "value = [\"name1\",\"name2\",\"name3\",\"name4\",\"name5\"]\n",
    "value.reverse()\n",
    "print(f'value={value}')"
   ]
  },
  {
   "cell_type": "markdown",
   "id": "adc01c73-75a4-469a-be7a-e262d2c2d95c",
   "metadata": {},
   "source": [
    "# Python Sorting Method, True will sort in Descending Order, False will Sort in Ascending Order, by default the sort is done ascending order"
   ]
  },
  {
   "cell_type": "code",
   "execution_count": 47,
   "id": "ba33b7c2-63ab-4528-ab75-c8fb26b65339",
   "metadata": {},
   "outputs": [
    {
     "name": "stdout",
     "output_type": "stream",
     "text": [
      "list=[7, 6, 5, 4, 3, 2, 1]\n"
     ]
    }
   ],
   "source": [
    "list = [1,2,3,4,5,6,7]\n",
    "list.sort(reverse=True)\n",
    "print(f'list={list}')"
   ]
  },
  {
   "cell_type": "code",
   "execution_count": null,
   "id": "0e565ea0-d88f-4653-8586-1cab7fbb7900",
   "metadata": {},
   "outputs": [],
   "source": []
  }
 ],
 "metadata": {
  "kernelspec": {
   "display_name": "Python 3 (ipykernel)",
   "language": "python",
   "name": "python3"
  },
  "language_info": {
   "codemirror_mode": {
    "name": "ipython",
    "version": 3
   },
   "file_extension": ".py",
   "mimetype": "text/x-python",
   "name": "python",
   "nbconvert_exporter": "python",
   "pygments_lexer": "ipython3",
   "version": "3.11.7"
  }
 },
 "nbformat": 4,
 "nbformat_minor": 5
}
